{
 "cells": [
  {
   "cell_type": "code",
   "execution_count": 2,
   "metadata": {},
   "outputs": [],
   "source": [
    "import pickle\n",
    "import os"
   ]
  },
  {
   "cell_type": "code",
   "execution_count": 4,
   "metadata": {},
   "outputs": [],
   "source": [
    "#path = '/Users/wizard/Downloads/TLSAV/Datasets'\n",
    "path = r'C:\\Users\\wmasi\\Documents\\Q-learning-gridworld\\TLSAV\\Datasets'"
   ]
  },
  {
   "cell_type": "code",
   "execution_count": 4,
   "metadata": {},
   "outputs": [],
   "source": [
    "#Change this stuff once we have the data\n",
    "\n",
    "with open(os.path.join(path, 'Agent_Batch_(0, 0).pkl'), 'rb') as f:\n",
    "    batch00 = pickle.load(f)\n",
    "with open(os.path.join(path, 'Agent_Batch_(0, 8).pkl'), 'rb') as f:\n",
    "    batch08 = pickle.load(f)\n",
    "with open(os.path.join(path, 'Agent_Batch_(8, 0).pkl'), 'rb') as f:\n",
    "    batch80 = pickle.load(f)\n",
    "with open(os.path.join(path, 'Agent_Batch_(8, 8).pkl'), 'rb') as f:\n",
    "    batch88 = pickle.load(f)"
   ]
  },
  {
   "cell_type": "code",
   "execution_count": 4,
   "metadata": {},
   "outputs": [],
   "source": [
    "def generate_xy_pair (player_1_ep, player_2_ep):\n",
    "\n",
    "    # Generates XY Pairs\n",
    "    # By Shifting Indices \n",
    "    # Off-By-One\n",
    "\n",
    "    full_game = []\n",
    "    length = 0\n",
    "    max = 0\n",
    "    if len(player_1_ep) < len(player_2_ep):\n",
    "        length = len(player_1_ep)\n",
    "        max = 2\n",
    "    else:\n",
    "        length = len(player_2_ep)\n",
    "        max = 1\n",
    "    for i in range(length):\n",
    "        full_game.append(player_1_ep[i][-1])\n",
    "        full_game.append(player_2_ep[i][-1])\n",
    "    if max == 1:\n",
    "        full_game.append(player_1_ep[-1][-1])\n",
    "    else:\n",
    "        full_game.append(player_2_ep[-1][-1])\n",
    "    \n",
    "    return (full_game[:-1], full_game[1:])"
   ]
  },
  {
   "cell_type": "code",
   "execution_count": 5,
   "metadata": {},
   "outputs": [],
   "source": [
    "train00 = []\n",
    "qhist00 = []\n",
    "\n",
    "for agent in batch00:\n",
    "    for episode in agent:\n",
    "        xy_pair = generate_xy_pair(episode)\n",
    "        if len(xy_pair[0]) < 200:\n",
    "            train00.append(generate_xy_pair(episode))\n",
    "            qhist00.append(episode)\n",
    "\n",
    "train08 = []\n",
    "qhist08 = []\n",
    "\n",
    "for agent in batch08:\n",
    "    for episode in agent:\n",
    "        xy_pair = generate_xy_pair(episode)\n",
    "        if len(xy_pair[0]) < 200:\n",
    "            train08.append(generate_xy_pair(episode))\n",
    "            qhist08.append(episode)\n",
    "\n",
    "train80 = []\n",
    "qhist80 = []\n",
    "\n",
    "for agent in batch80:\n",
    "    for episode in agent:\n",
    "        xy_pair = generate_xy_pair(episode)\n",
    "        if len(xy_pair[0]) < 200:\n",
    "            train80.append(generate_xy_pair(episode))\n",
    "            qhist80.append(episode)\n",
    "\n",
    "train88 = []\n",
    "qhist88 = []\n",
    "\n",
    "for agent in batch88:\n",
    "    for episode in agent:\n",
    "        xy_pair = generate_xy_pair(episode)\n",
    "        if len(xy_pair[0]) < 200:\n",
    "            train88.append(generate_xy_pair(episode))\n",
    "            qhist88.append(episode)"
   ]
  },
  {
   "cell_type": "code",
   "execution_count": 6,
   "metadata": {},
   "outputs": [],
   "source": [
    "with open(os.path.join(path, 'train00.pkl'), 'wb') as f:\n",
    "    pickle.dump(train00, f)\n",
    "with open(os.path.join(path, 'train08.pkl'), 'wb') as f:\n",
    "    pickle.dump(train08, f)\n",
    "with open(os.path.join(path, 'train80.pkl'), 'wb') as f:\n",
    "    pickle.dump(train80, f)\n",
    "with open(os.path.join(path, 'train88.pkl'), 'wb') as f:\n",
    "    pickle.dump(train88, f)"
   ]
  },
  {
   "cell_type": "code",
   "execution_count": 7,
   "metadata": {},
   "outputs": [],
   "source": [
    "with open(os.path.join(path, 'qhist00.pkl'), 'wb') as f:\n",
    "    pickle.dump(qhist00, f)\n",
    "with open(os.path.join(path, 'qhist08.pkl'), 'wb') as f:\n",
    "    pickle.dump(qhist08, f)\n",
    "with open(os.path.join(path, 'qhist80.pkl'), 'wb') as f:\n",
    "    pickle.dump(qhist80, f)\n",
    "with open(os.path.join(path, 'qhist88.pkl'), 'wb') as f:\n",
    "    pickle.dump(qhist88, f)"
   ]
  },
  {
   "cell_type": "code",
   "execution_count": 6,
   "metadata": {},
   "outputs": [
    {
     "name": "stdout",
     "output_type": "stream",
     "text": [
      "[([(0, 0), 'up', (0, 1), 'left', (0, 1), 'down', (0, 0), 'right', (1, 0), 'up', (1, 1), 'down', (1, 0), 'up', (1, 1), 'right', (2, 1), 'left', (1, 1), 'up', (1, 2), 'up', (1, 3), 'left', (0, 3), 'down', (0, 2), 'right', (1, 2), 'down', (1, 1), 'left', (0, 1), 'right', (1, 1), 'right', (2, 1), 'up', (2, 2), 'down', (2, 1), 'down', (2, 0), 'up', (2, 1), 'right', (3, 1), 'right', (4, 1), 'up', (4, 2), 'down', (4, 1), 'left', (3, 1), 'down', (3, 0), 'right', (4, 0), 'left', (3, 0), 'down', (3, 0), 'left', (2, 0), 'left', (1, 0), 'up', (1, 1), 'up', (1, 2), 'right', (2, 2), 'right', (3, 2), 'up', (3, 3), 'down', (3, 2), 'down', (3, 1), 'right', (4, 1), 'up', (4, 2), 'up', (4, 3), 'left', (3, 3), 'right', (4, 3), 'down', (4, 2), 'up', (4, 3), 'right', (5, 3), 'down', (5, 2), 'left', (4, 2), 'right', (5, 2), 'right', (6, 2), 'up', (6, 3), 'left', (5, 3), 'right', (6, 3), 'up', (6, 4), 'right', (7, 4), 'down', (7, 3), 'left', (6, 3), 'right', (7, 3), 'up', (7, 4), 'right', (8, 4), 'down', (8, 3), 'down', (8, 2), 'up', (8, 3), 'right', (8, 3), 'up', (8, 4), 'down', (8, 3), 'left', (7, 3), 'up', (7, 4), 'left', (6, 4), 'left', (5, 4), 'right', (6, 4), 'down', (6, 3), 'down', (6, 2), 'left', (5, 2), 'down', (5, 1), 'left', (4, 1), 'down', (4, 0), 'down', (4, 0), 'right', (5, 0), 'right', (6, 0), 'down', (6, 0), 'up', (6, 1), 'up', (6, 2), 'down', (6, 1), 'left', (5, 1), 'up', (5, 2), 'up', (5, 3), 'left', (4, 3)], ['up', (0, 1), 'left', (0, 1), 'down', (0, 0), 'right', (1, 0), 'up', (1, 1), 'down', (1, 0), 'up', (1, 1), 'right', (2, 1), 'left', (1, 1), 'up', (1, 2), 'up', (1, 3), 'left', (0, 3), 'down', (0, 2), 'right', (1, 2), 'down', (1, 1), 'left', (0, 1), 'right', (1, 1), 'right', (2, 1), 'up', (2, 2), 'down', (2, 1), 'down', (2, 0), 'up', (2, 1), 'right', (3, 1), 'right', (4, 1), 'up', (4, 2), 'down', (4, 1), 'left', (3, 1), 'down', (3, 0), 'right', (4, 0), 'left', (3, 0), 'down', (3, 0), 'left', (2, 0), 'left', (1, 0), 'up', (1, 1), 'up', (1, 2), 'right', (2, 2), 'right', (3, 2), 'up', (3, 3), 'down', (3, 2), 'down', (3, 1), 'right', (4, 1), 'up', (4, 2), 'up', (4, 3), 'left', (3, 3), 'right', (4, 3), 'down', (4, 2), 'up', (4, 3), 'right', (5, 3), 'down', (5, 2), 'left', (4, 2), 'right', (5, 2), 'right', (6, 2), 'up', (6, 3), 'left', (5, 3), 'right', (6, 3), 'up', (6, 4), 'right', (7, 4), 'down', (7, 3), 'left', (6, 3), 'right', (7, 3), 'up', (7, 4), 'right', (8, 4), 'down', (8, 3), 'down', (8, 2), 'up', (8, 3), 'right', (8, 3), 'up', (8, 4), 'down', (8, 3), 'left', (7, 3), 'up', (7, 4), 'left', (6, 4), 'left', (5, 4), 'right', (6, 4), 'down', (6, 3), 'down', (6, 2), 'left', (5, 2), 'down', (5, 1), 'left', (4, 1), 'down', (4, 0), 'down', (4, 0), 'right', (5, 0), 'right', (6, 0), 'down', (6, 0), 'up', (6, 1), 'up', (6, 2), 'down', (6, 1), 'left', (5, 1), 'up', (5, 2), 'up', (5, 3), 'left', (4, 3), 'up']), ([(0, 0), 'down', (0, 0), 'left', (0, 0), 'up', (0, 1), 'up', (0, 2), 'up', (0, 3), 'down', (0, 2), 'left', (0, 2), 'down', (0, 1), 'left', (0, 1), 'right', (1, 1), 'left', (0, 1), 'up', (0, 2), 'up', (0, 3), 'left', (0, 3), 'right', (1, 3), 'left', (0, 3), 'left', (0, 3), 'up', (0, 4), 'down', (0, 3), 'right', (1, 3), 'right', (2, 3), 'down', (2, 2), 'up', (2, 3), 'left', (1, 3), 'down', (1, 2), 'left', (0, 2), 'left', (0, 2), 'right', (1, 2), 'up', (1, 3), 'up', (1, 4), 'down', (1, 3), 'left', (0, 3), 'left', (0, 3), 'up', (0, 4), 'left', (0, 4), 'up', (0, 5), 'down', (0, 4), 'down', (0, 3), 'right', (1, 3), 'up', (1, 4), 'left', (0, 4), 'right', (1, 4), 'up', (1, 5), 'up', (1, 6), 'right', (2, 6), 'down', (2, 5), 'up', (2, 6), 'up', (2, 7), 'up', (2, 8), 'left', (1, 8), 'up', (1, 8), 'left', (0, 8), 'up', (0, 8), 'down', (0, 7), 'left', (0, 7), 'up', (0, 8), 'right', (1, 8), 'down', (1, 7), 'left', (0, 7), 'right', (1, 7), 'left', (0, 7), 'left', (0, 7), 'down', (0, 6), 'up', (0, 7), 'up', (0, 8), 'left', (0, 8), 'left', (0, 8), 'right', (1, 8), 'left', (0, 8), 'up', (0, 8), 'down', (0, 7), 'right', (1, 7), 'right', (2, 7), 'right', (3, 7), 'right', (4, 7), 'right', (5, 7), 'right', (6, 7), 'left', (5, 7), 'left', (4, 7), 'up', (4, 8), 'down', (4, 7), 'down', (4, 6), 'right', (5, 6), 'right', (6, 6), 'left', (5, 6), 'up', (5, 7), 'up', (5, 8), 'down', (5, 7), 'down', (5, 6), 'down', (5, 5), 'down', (5, 4)], ['down', (0, 0), 'left', (0, 0), 'up', (0, 1), 'up', (0, 2), 'up', (0, 3), 'down', (0, 2), 'left', (0, 2), 'down', (0, 1), 'left', (0, 1), 'right', (1, 1), 'left', (0, 1), 'up', (0, 2), 'up', (0, 3), 'left', (0, 3), 'right', (1, 3), 'left', (0, 3), 'left', (0, 3), 'up', (0, 4), 'down', (0, 3), 'right', (1, 3), 'right', (2, 3), 'down', (2, 2), 'up', (2, 3), 'left', (1, 3), 'down', (1, 2), 'left', (0, 2), 'left', (0, 2), 'right', (1, 2), 'up', (1, 3), 'up', (1, 4), 'down', (1, 3), 'left', (0, 3), 'left', (0, 3), 'up', (0, 4), 'left', (0, 4), 'up', (0, 5), 'down', (0, 4), 'down', (0, 3), 'right', (1, 3), 'up', (1, 4), 'left', (0, 4), 'right', (1, 4), 'up', (1, 5), 'up', (1, 6), 'right', (2, 6), 'down', (2, 5), 'up', (2, 6), 'up', (2, 7), 'up', (2, 8), 'left', (1, 8), 'up', (1, 8), 'left', (0, 8), 'up', (0, 8), 'down', (0, 7), 'left', (0, 7), 'up', (0, 8), 'right', (1, 8), 'down', (1, 7), 'left', (0, 7), 'right', (1, 7), 'left', (0, 7), 'left', (0, 7), 'down', (0, 6), 'up', (0, 7), 'up', (0, 8), 'left', (0, 8), 'left', (0, 8), 'right', (1, 8), 'left', (0, 8), 'up', (0, 8), 'down', (0, 7), 'right', (1, 7), 'right', (2, 7), 'right', (3, 7), 'right', (4, 7), 'right', (5, 7), 'right', (6, 7), 'left', (5, 7), 'left', (4, 7), 'up', (4, 8), 'down', (4, 7), 'down', (4, 6), 'right', (5, 6), 'right', (6, 6), 'left', (5, 6), 'up', (5, 7), 'up', (5, 8), 'down', (5, 7), 'down', (5, 6), 'down', (5, 5), 'down', (5, 4), 'left']), ([(0, 0), 'right', (1, 0), 'right', (2, 0), 'down', (2, 0), 'right', (3, 0), 'left', (2, 0), 'down', (2, 0), 'left', (1, 0), 'down', (1, 0), 'left', (0, 0), 'up', (0, 1), 'left', (0, 1), 'right', (1, 1), 'down', (1, 0), 'right', (2, 0), 'up', (2, 1), 'down', (2, 0), 'right', (3, 0), 'right', (4, 0), 'up', (4, 1), 'up', (4, 2), 'left', (3, 2), 'down', (3, 1), 'up', (3, 2), 'right', (4, 2), 'down', (4, 1), 'up', (4, 2), 'up', (4, 3)], ['right', (1, 0), 'right', (2, 0), 'down', (2, 0), 'right', (3, 0), 'left', (2, 0), 'down', (2, 0), 'left', (1, 0), 'down', (1, 0), 'left', (0, 0), 'up', (0, 1), 'left', (0, 1), 'right', (1, 1), 'down', (1, 0), 'right', (2, 0), 'up', (2, 1), 'down', (2, 0), 'right', (3, 0), 'right', (4, 0), 'up', (4, 1), 'up', (4, 2), 'left', (3, 2), 'down', (3, 1), 'up', (3, 2), 'right', (4, 2), 'down', (4, 1), 'up', (4, 2), 'up', (4, 3), 'up']), ([(0, 0), 'down', (0, 0), 'left', (0, 0), 'right', (1, 0), 'down', (1, 0), 'down', (1, 0), 'left', (0, 0), 'up', (0, 1), 'down', (0, 0), 'right', (1, 0), 'right', (2, 0), 'down', (2, 0), 'left', (1, 0), 'up', (1, 1), 'up', (1, 2), 'right', (2, 2), 'left', (1, 2), 'down', (1, 1), 'right', (2, 1), 'left', (1, 1), 'down', (1, 0), 'right', (2, 0), 'up', (2, 1), 'up', (2, 2), 'right', (3, 2), 'left', (2, 2), 'up', (2, 3), 'right', (3, 3), 'left', (2, 3), 'up', (2, 4), 'down', (2, 3), 'right', (3, 3), 'up', (3, 4)], ['down', (0, 0), 'left', (0, 0), 'right', (1, 0), 'down', (1, 0), 'down', (1, 0), 'left', (0, 0), 'up', (0, 1), 'down', (0, 0), 'right', (1, 0), 'right', (2, 0), 'down', (2, 0), 'left', (1, 0), 'up', (1, 1), 'up', (1, 2), 'right', (2, 2), 'left', (1, 2), 'down', (1, 1), 'right', (2, 1), 'left', (1, 1), 'down', (1, 0), 'right', (2, 0), 'up', (2, 1), 'up', (2, 2), 'right', (3, 2), 'left', (2, 2), 'up', (2, 3), 'right', (3, 3), 'left', (2, 3), 'up', (2, 4), 'down', (2, 3), 'right', (3, 3), 'up', (3, 4), 'right']), ([(0, 0), 'down', (0, 0), 'left', (0, 0), 'up', (0, 1), 'up', (0, 2), 'down', (0, 1), 'right', (1, 1), 'left', (0, 1), 'left', (0, 1), 'left', (0, 1), 'up', (0, 2), 'down', (0, 1), 'down', (0, 0), 'right', (1, 0), 'up', (1, 1), 'right', (2, 1), 'right', (3, 1), 'left', (2, 1), 'up', (2, 2), 'down', (2, 1), 'down', (2, 0), 'right', (3, 0), 'left', (2, 0), 'up', (2, 1), 'left', (1, 1), 'up', (1, 2), 'left', (0, 2), 'up', (0, 3), 'down', (0, 2), 'right', (1, 2), 'up', (1, 3), 'left', (0, 3), 'up', (0, 4), 'left', (0, 4), 'up', (0, 5), 'left', (0, 5), 'right', (1, 5), 'left', (0, 5), 'up', (0, 6), 'down', (0, 5), 'left', (0, 5), 'down', (0, 4), 'down', (0, 3), 'left', (0, 3), 'right', (1, 3), 'right', (2, 3), 'left', (1, 3), 'down', (1, 2), 'right', (2, 2), 'left', (1, 2), 'right', (2, 2), 'up', (2, 3), 'up', (2, 4), 'left', (1, 4), 'right', (2, 4), 'right', (3, 4)], ['down', (0, 0), 'left', (0, 0), 'up', (0, 1), 'up', (0, 2), 'down', (0, 1), 'right', (1, 1), 'left', (0, 1), 'left', (0, 1), 'left', (0, 1), 'up', (0, 2), 'down', (0, 1), 'down', (0, 0), 'right', (1, 0), 'up', (1, 1), 'right', (2, 1), 'right', (3, 1), 'left', (2, 1), 'up', (2, 2), 'down', (2, 1), 'down', (2, 0), 'right', (3, 0), 'left', (2, 0), 'up', (2, 1), 'left', (1, 1), 'up', (1, 2), 'left', (0, 2), 'up', (0, 3), 'down', (0, 2), 'right', (1, 2), 'up', (1, 3), 'left', (0, 3), 'up', (0, 4), 'left', (0, 4), 'up', (0, 5), 'left', (0, 5), 'right', (1, 5), 'left', (0, 5), 'up', (0, 6), 'down', (0, 5), 'left', (0, 5), 'down', (0, 4), 'down', (0, 3), 'left', (0, 3), 'right', (1, 3), 'right', (2, 3), 'left', (1, 3), 'down', (1, 2), 'right', (2, 2), 'left', (1, 2), 'right', (2, 2), 'up', (2, 3), 'up', (2, 4), 'left', (1, 4), 'right', (2, 4), 'right', (3, 4), 'right']), ([(0, 0), 'right', (1, 0), 'left', (0, 0), 'up', (0, 1), 'up', (0, 2), 'right', (1, 2), 'up', (1, 3), 'right', (2, 3), 'down', (2, 2), 'right', (3, 2), 'up', (3, 3), 'up', (3, 4)], ['right', (1, 0), 'left', (0, 0), 'up', (0, 1), 'up', (0, 2), 'right', (1, 2), 'up', (1, 3), 'right', (2, 3), 'down', (2, 2), 'right', (3, 2), 'up', (3, 3), 'up', (3, 4), 'right']), ([(0, 0), 'down', (0, 0), 'left', (0, 0), 'right', (1, 0), 'down', (1, 0), 'right', (2, 0), 'down', (2, 0), 'left', (1, 0), 'up', (1, 1), 'down', (1, 0), 'down', (1, 0), 'right', (2, 0), 'up', (2, 1), 'right', (3, 1), 'down', (3, 0), 'down', (3, 0), 'up', (3, 1), 'right', (4, 1), 'right', (5, 1), 'down', (5, 0), 'up', (5, 1), 'right', (6, 1), 'right', (7, 1), 'right', (8, 1), 'right', (8, 1), 'up', (8, 2), 'down', (8, 1), 'right', (8, 1), 'down', (8, 0), 'up', (8, 1), 'left', (7, 1), 'up', (7, 2), 'left', (6, 2), 'down', (6, 1), 'down', (6, 0), 'right', (7, 0), 'up', (7, 1), 'left', (6, 1), 'up', (6, 2), 'up', (6, 3), 'left', (5, 3), 'right', (6, 3), 'up', (6, 4), 'left', (5, 4)], ['down', (0, 0), 'left', (0, 0), 'right', (1, 0), 'down', (1, 0), 'right', (2, 0), 'down', (2, 0), 'left', (1, 0), 'up', (1, 1), 'down', (1, 0), 'down', (1, 0), 'right', (2, 0), 'up', (2, 1), 'right', (3, 1), 'down', (3, 0), 'down', (3, 0), 'up', (3, 1), 'right', (4, 1), 'right', (5, 1), 'down', (5, 0), 'up', (5, 1), 'right', (6, 1), 'right', (7, 1), 'right', (8, 1), 'right', (8, 1), 'up', (8, 2), 'down', (8, 1), 'right', (8, 1), 'down', (8, 0), 'up', (8, 1), 'left', (7, 1), 'up', (7, 2), 'left', (6, 2), 'down', (6, 1), 'down', (6, 0), 'right', (7, 0), 'up', (7, 1), 'left', (6, 1), 'up', (6, 2), 'up', (6, 3), 'left', (5, 3), 'right', (6, 3), 'up', (6, 4), 'left', (5, 4), 'left']), ([(0, 0), 'up', (0, 1), 'right', (1, 1), 'down', (1, 0), 'left', (0, 0), 'down', (0, 0), 'right', (1, 0), 'up', (1, 1), 'right', (2, 1), 'up', (2, 2), 'down', (2, 1), 'down', (2, 0), 'right', (3, 0), 'right', (4, 0), 'left', (3, 0), 'down', (3, 0), 'up', (3, 1), 'up', (3, 2), 'up', (3, 3), 'up', (3, 4)], ['up', (0, 1), 'right', (1, 1), 'down', (1, 0), 'left', (0, 0), 'down', (0, 0), 'right', (1, 0), 'up', (1, 1), 'right', (2, 1), 'up', (2, 2), 'down', (2, 1), 'down', (2, 0), 'right', (3, 0), 'right', (4, 0), 'left', (3, 0), 'down', (3, 0), 'up', (3, 1), 'up', (3, 2), 'up', (3, 3), 'up', (3, 4), 'right']), ([(0, 0), 'left', (0, 0), 'up', (0, 1), 'down', (0, 0), 'right', (1, 0), 'right', (2, 0), 'down', (2, 0), 'right', (3, 0), 'right', (4, 0), 'down', (4, 0), 'right', (5, 0), 'down', (5, 0), 'left', (4, 0), 'up', (4, 1), 'down', (4, 0), 'down', (4, 0), 'right', (5, 0), 'right', (6, 0), 'left', (5, 0), 'up', (5, 1), 'left', (4, 1), 'left', (3, 1), 'up', (3, 2), 'up', (3, 3), 'up', (3, 4)], ['left', (0, 0), 'up', (0, 1), 'down', (0, 0), 'right', (1, 0), 'right', (2, 0), 'down', (2, 0), 'right', (3, 0), 'right', (4, 0), 'down', (4, 0), 'right', (5, 0), 'down', (5, 0), 'left', (4, 0), 'up', (4, 1), 'down', (4, 0), 'down', (4, 0), 'right', (5, 0), 'right', (6, 0), 'left', (5, 0), 'up', (5, 1), 'left', (4, 1), 'left', (3, 1), 'up', (3, 2), 'up', (3, 3), 'up', (3, 4), 'right']), ([(0, 0), 'up', (0, 1), 'left', (0, 1), 'up', (0, 2), 'down', (0, 1), 'right', (1, 1), 'up', (1, 2), 'left', (0, 2), 'left', (0, 2), 'up', (0, 3), 'right', (1, 3), 'down', (1, 2), 'down', (1, 1), 'right', (2, 1), 'left', (1, 1), 'left', (0, 1), 'left', (0, 1), 'up', (0, 2), 'right', (1, 2), 'up', (1, 3), 'up', (1, 4), 'right', (2, 4), 'up', (2, 5), 'down', (2, 4), 'right', (3, 4)], ['up', (0, 1), 'left', (0, 1), 'up', (0, 2), 'down', (0, 1), 'right', (1, 1), 'up', (1, 2), 'left', (0, 2), 'left', (0, 2), 'up', (0, 3), 'right', (1, 3), 'down', (1, 2), 'down', (1, 1), 'right', (2, 1), 'left', (1, 1), 'left', (0, 1), 'left', (0, 1), 'up', (0, 2), 'right', (1, 2), 'up', (1, 3), 'up', (1, 4), 'right', (2, 4), 'up', (2, 5), 'down', (2, 4), 'right', (3, 4), 'right'])]\n"
     ]
    }
   ],
   "source": [
    "# with open(os.path.join(path, 'qhist00.pkl'), 'rb') as f:\n",
    "#     test = pickle.load(f)\n",
    "#     print(test[:10])\n",
    "with open(os.path.join(path, 'train00.pkl'), 'rb') as f:\n",
    "    test = pickle.load(f)\n",
    "    print(test[:10])\n"
   ]
  }
 ],
 "metadata": {
  "kernelspec": {
   "display_name": "Python 3",
   "language": "python",
   "name": "python3"
  },
  "language_info": {
   "codemirror_mode": {
    "name": "ipython",
    "version": 3
   },
   "file_extension": ".py",
   "mimetype": "text/x-python",
   "name": "python",
   "nbconvert_exporter": "python",
   "pygments_lexer": "ipython3",
   "version": "3.10.13"
  }
 },
 "nbformat": 4,
 "nbformat_minor": 2
}
